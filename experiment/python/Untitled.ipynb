{
 "cells": [
  {
   "cell_type": "code",
   "execution_count": 3,
   "metadata": {
    "ExecuteTime": {
     "end_time": "2021-10-25T08:30:00.212156Z",
     "start_time": "2021-10-25T08:30:00.013393Z"
    }
   },
   "outputs": [
    {
     "name": "stdout",
     "output_type": "stream",
     "text": [
      "Help on method activate_line in module pyxid2.pyxid_impl:\n",
      "\n",
      "activate_line(lines=None, bitmask=None, leave_remaining_lines=False) method of pyxid2.pyxid_impl.XidDevice instance\n",
      "    Triggers an output line.\n",
      "    \n",
      "    There are up to 16 output lines on XID devices that can be raised\n",
      "    in any combination.  To raise lines 1 and 7, for example, you pass\n",
      "    in the list: activate_line(lines=[1, 7]).\n",
      "    \n",
      "    To raise a single line, pass in just an integer, or a list with a\n",
      "    single element to the lines keyword argument:\n",
      "    \n",
      "        activate_line(lines=3)\n",
      "    \n",
      "        or\n",
      "    \n",
      "        activate_line(lines=[3])\n",
      "    \n",
      "    The `lines` argument must either be an Integer, list of Integers, or\n",
      "    None.\n",
      "    \n",
      "    If you'd rather specify a bitmask for setting the lines, you can use\n",
      "    the bitmask keyword argument.  Bitmask must be a Integer value between\n",
      "    0 and 255 where 0 specifies no lines, and 255 is all lines.  For a\n",
      "    mapping between lines and their bit values, see the `_lines` class\n",
      "    variable.\n",
      "    \n",
      "    To use this, call the function as so to activate lines 1 and 6:\n",
      "    \n",
      "        activate_line(bitmask=33)\n",
      "    \n",
      "    leave_remaining_lines tells the function to only operate on the lines\n",
      "    specified.  For example, if lines 1 and 8 are active, and you make\n",
      "    the following function call:\n",
      "    \n",
      "        activate_line(lines=4, leave_remaining_lines=True)\n",
      "    \n",
      "    This will result in lines 1, 4 and 8 being active.\n",
      "    \n",
      "    If you call activate_line(lines=4) with leave_remaining_lines=False\n",
      "    (the default), if lines 1 and 8 were previously active, only line 4\n",
      "    will be active after the call.\n",
      "\n"
     ]
    }
   ],
   "source": [
    "import pyxid2\n",
    "\n",
    "stim_tracker = pyxid2.get_xid_devices()[0]\n",
    "help(stim_tracker.activate_line)\n"
   ]
  },
  {
   "cell_type": "code",
   "execution_count": null,
   "metadata": {
    "ExecuteTime": {
     "start_time": "2021-10-25T21:27:54.570Z"
    }
   },
   "outputs": [],
   "source": [
    "\"{:04d}\".format(marker_code)"
   ]
  },
  {
   "cell_type": "code",
   "execution_count": 48,
   "metadata": {
    "ExecuteTime": {
     "end_time": "2021-10-25T06:42:57.214044Z",
     "start_time": "2021-10-25T06:42:57.206065Z"
    }
   },
   "outputs": [],
   "source": [
    "import numpy as np\n",
    "def convert_marker_code_to_lines (marker_code, separate_digits = False):\n",
    "\n",
    "    LINES = np.array([2,1,5,4])\n",
    "    lines = []\n",
    "    if not separate_digits: \n",
    "        # convert digit in 4-bit word\n",
    "        digit_binary = [int(d) for d in \"{:04b}\".format(marker_code)] # ex. 9 -> [1,0,0,1]\n",
    "        print(digit_binary)\n",
    "        activated_lines = LINES[np.nonzero(digit_binary)[0]] # activate lines for which bit is non null\n",
    "        print(activated_lines)\n",
    "        lines.append(list(activated_lines))\n",
    "    \n",
    "    else: \n",
    "        # TODO: debug \n",
    "        marker_digits = [int(digit) for digit in \"{:04d}\".format(marker_code)]\n",
    "        for digit in marker_digits: \n",
    "            # convert digit in 4-bit word\n",
    "            digit_binary = [int(d) for d in \"{:04b}\".format(digit)] # ex. 9 -> [1,0,0,1]\n",
    "            print(digit_binary)\n",
    "            activated_lines = LINES[np.nonzero(digit_binary)[0]] # activate lines for which bit is non null\n",
    "            print(activated_lines)\n",
    "            lines.append(list(activated_lines))\n",
    "    print(lines)\n",
    "    return lines\n"
   ]
  },
  {
   "cell_type": "code",
   "execution_count": 49,
   "metadata": {
    "ExecuteTime": {
     "end_time": "2021-10-25T06:42:57.558831Z",
     "start_time": "2021-10-25T06:42:57.554822Z"
    }
   },
   "outputs": [
    {
     "name": "stdout",
     "output_type": "stream",
     "text": [
      "[0, 0, 1, 1]\n",
      "[5 4]\n",
      "[[5, 4]]\n"
     ]
    },
    {
     "data": {
      "text/plain": [
       "[[5, 4]]"
      ]
     },
     "execution_count": 49,
     "metadata": {},
     "output_type": "execute_result"
    }
   ],
   "source": [
    "convert_marker_code_to_lines(3, separate_digits=False)"
   ]
  },
  {
   "cell_type": "code",
   "execution_count": 5,
   "metadata": {
    "ExecuteTime": {
     "end_time": "2021-10-25T05:36:11.475764Z",
     "start_time": "2021-10-25T05:36:11.471767Z"
    }
   },
   "outputs": [
    {
     "name": "stdout",
     "output_type": "stream",
     "text": [
      "ok\n"
     ]
    }
   ],
   "source": [
    "PARAMS={'rise':'bla','smile':'bla'}\n",
    "\n",
    "condition = 'rise/smile'\n",
    "\n",
    "if condition not in PARAMS: \n",
    "    print('ok')\n"
   ]
  },
  {
   "cell_type": "code",
   "execution_count": 2,
   "metadata": {
    "ExecuteTime": {
     "end_time": "2021-10-25T05:35:54.909622Z",
     "start_time": "2021-10-25T05:35:54.904634Z"
    }
   },
   "outputs": [],
   "source": [
    "def blockify(x,n_stims):\n",
    "    # generator to cut a signal into non-overlapping frames\n",
    "    # returns all complete frames, but a last frame with any trailing samples\n",
    "    for i in range(len(x)//n_stims):\n",
    "        start = n_stims*i\n",
    "        end=n_stims*(i+1)\n",
    "        yield (x[start:end],i)\n",
    "    if (end < len(x)): \n",
    "        yield (x[end:len(x)],i+1)  "
   ]
  },
  {
   "cell_type": "code",
   "execution_count": 56,
   "metadata": {
    "ExecuteTime": {
     "end_time": "2021-10-22T09:50:57.990051Z",
     "start_time": "2021-10-22T09:50:57.978081Z"
    }
   },
   "outputs": [
    {
     "name": "stdout",
     "output_type": "stream",
     "text": [
      "generate trial file ./trials/smile/trials_subj1_block1_211022_11.50.csv\n",
      "generate trial file ./trials/smile/trials_subj1_block2_211022_11.50.csv\n",
      "generate trial file ./trials/smile/trials_subj1_block3_211022_11.50.csv\n"
     ]
    }
   ],
   "source": [
    "import datetime\n",
    "import csv\n",
    "date = datetime.datetime.now()\n",
    "trial_files = []\n",
    "for block,block_num in blockify(stim_list, n_stims): \n",
    "    trial_file = rootPath+'/trials/smile/trials_subj' + str(subject_number) + '_block' + str(block_num+1) + '_' + date.strftime('%y%m%d_%H.%M')+'.csv'\n",
    "    print('generate trial file '+trial_file)\n",
    "    trial_files.append(trial_file)\n",
    "    with open(trial_file, 'w+', newline='') as file :\n",
    "        writer = csv.writer(file)\n",
    "        writer.writerow(['Stimulus'])\n",
    "        for item in block: \n",
    "            writer.writerow([item])\n"
   ]
  },
  {
   "cell_type": "code",
   "execution_count": null,
   "metadata": {},
   "outputs": [],
   "source": []
  }
 ],
 "metadata": {
  "kernelspec": {
   "display_name": "Python 3",
   "language": "python",
   "name": "python3"
  },
  "language_info": {
   "codemirror_mode": {
    "name": "ipython",
    "version": 3
   },
   "file_extension": ".py",
   "mimetype": "text/x-python",
   "name": "python",
   "nbconvert_exporter": "python",
   "pygments_lexer": "ipython3",
   "version": "3.6.8"
  },
  "toc": {
   "base_numbering": 1,
   "nav_menu": {},
   "number_sections": true,
   "sideBar": true,
   "skip_h1_title": true,
   "title_cell": "Table of Contents",
   "title_sidebar": "Contents",
   "toc_cell": false,
   "toc_position": {},
   "toc_section_display": true,
   "toc_window_display": true
  }
 },
 "nbformat": 4,
 "nbformat_minor": 4
}
