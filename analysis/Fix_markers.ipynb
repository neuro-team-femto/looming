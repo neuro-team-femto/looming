{
 "cells": [
  {
   "cell_type": "code",
   "execution_count": 1,
   "metadata": {
    "ExecuteTime": {
     "end_time": "2022-05-11T14:39:18.404173Z",
     "start_time": "2022-05-11T14:39:08.902756Z"
    }
   },
   "outputs": [],
   "source": [
    "%matplotlib inline\n",
    "import matplotlib.pyplot as plt\n",
    "import glob, os\n",
    "import numpy as np\n",
    "from numpy.polynomial import polynomial as P\n",
    "import re, csv\n",
    "import pandas as pd\n",
    "from math import sqrt\n",
    "import seaborn as sns\n",
    "from numpy.polynomial import polynomial as P\n",
    "from scipy import stats\n",
    "from scipy.stats import linregress\n",
    "sns.set_style(\"whitegrid\")"
   ]
  },
  {
   "cell_type": "markdown",
   "metadata": {},
   "source": [
    "# Fix marker codes - looming experiment"
   ]
  },
  {
   "cell_type": "markdown",
   "metadata": {},
   "source": [
    "A quick patch to fix marker codes for the 'flat' deviant type. A bug (fixed 11-05-2022) in experiment.py wrongly attributed marker code = 1 (standard) to the 'flat' deviant. We fix the result files a posteriori, by matching flat deviants based on their filename"
   ]
  },
  {
   "cell_type": "code",
   "execution_count": 18,
   "metadata": {
    "ExecuteTime": {
     "end_time": "2022-05-11T14:59:01.132928Z",
     "start_time": "2022-05-11T14:59:01.101966Z"
    }
   },
   "outputs": [],
   "source": [
    "# for some reason, results_subj2*.csv has subject_number = 1\n",
    "# fix it\n",
    "\n",
    "result_dir = 'data/results/'\n",
    "result_files = glob.glob(result_dir+\"results_subj2*.csv\")\n",
    "\n",
    "for result_file in result_files: \n",
    "    \n",
    "    participant_results = pd.read_csv(result_file, sep = ',', decimal='.', header='infer')\n",
    "    participant_results.subject_number = 2\n",
    "    participant_results.to_csv(result_file, index =False)"
   ]
  },
  {
   "cell_type": "code",
   "execution_count": 19,
   "metadata": {
    "ExecuteTime": {
     "end_time": "2022-05-11T14:59:04.589295Z",
     "start_time": "2022-05-11T14:59:03.272278Z"
    }
   },
   "outputs": [
    {
     "name": "stdout",
     "output_type": "stream",
     "text": [
      "\n",
      "processing subject nb 10:\n",
      "found 133 flat deviants\n",
      "save to data/results/recode/results_subj10_condition_looming_220407_15.21.csv\n",
      "\n",
      "processing subject nb 11:\n",
      "found 133 flat deviants\n",
      "save to data/results/recode/results_subj11_condition_looming_220408_10.45.csv\n",
      "\n",
      "processing subject nb 12:\n",
      "found 133 flat deviants\n",
      "save to data/results/recode/results_subj12_condition_looming_220408_13.10.csv\n",
      "\n",
      "processing subject nb 13:\n",
      "found 133 flat deviants\n",
      "save to data/results/recode/results_subj13_condition_looming_220408_15.45.csv\n",
      "\n",
      "processing subject nb 14:\n",
      "found 133 flat deviants\n",
      "save to data/results/recode/results_subj14_condition_looming_220414_13.56.csv\n",
      "\n",
      "processing subject nb 15:\n",
      "found 133 flat deviants\n",
      "save to data/results/recode/results_subj15_condition_looming_220414_16.12.csv\n",
      "\n",
      "processing subject nb 16:\n",
      "found 133 flat deviants\n",
      "save to data/results/recode/results_subj16_condition_looming_220415_11.23.csv\n",
      "\n",
      "processing subject nb 17:\n",
      "found 133 flat deviants\n",
      "save to data/results/recode/results_subj17_condition_looming_220415_12.39.csv\n",
      "\n",
      "processing subject nb 18:\n",
      "found 133 flat deviants\n",
      "save to data/results/recode/results_subj18_condition_looming_220415_14.59.csv\n",
      "\n",
      "processing subject nb 1:\n",
      "found 0 flat deviants\n",
      "save to data/results/recode/results_subj1_condition_looming_220311_13.34.csv\n",
      "\n",
      "processing subject nb 2:\n",
      "found 133 flat deviants\n",
      "save to data/results/recode/results_subj2_condition_looming_220404_11.06.csv\n",
      "\n",
      "processing subject nb 3:\n",
      "found 133 flat deviants\n",
      "save to data/results/recode/results_subj3_condition_looming_220404_13.49.csv\n",
      "\n",
      "processing subject nb 4:\n",
      "found 133 flat deviants\n",
      "save to data/results/recode/results_subj4_condition_looming_220404_15.23.csv\n",
      "\n",
      "processing subject nb 5:\n",
      "found 133 flat deviants\n",
      "save to data/results/recode/results_subj5_condition_looming_220405_10.26.csv\n",
      "\n",
      "processing subject nb 6:\n",
      "found 133 flat deviants\n",
      "save to data/results/recode/results_subj6_condition_looming_220405_13.25.csv\n",
      "\n",
      "processing subject nb 7:\n",
      "found 133 flat deviants\n",
      "save to data/results/recode/results_subj7_condition_looming_220405_15.27.csv\n",
      "\n",
      "processing subject nb 8:\n",
      "found 133 flat deviants\n",
      "save to data/results/recode/results_subj8_condition_looming_220407_10.28.csv\n",
      "\n",
      "processing subject nb 9:\n",
      "found 133 flat deviants\n",
      "save to data/results/recode/results_subj9_condition_looming_220407_13.06.csv\n"
     ]
    }
   ],
   "source": [
    "result_dir = 'data/results/'\n",
    "result_files = glob.glob(result_dir+\"results_subj*.csv\")\n",
    "\n",
    "for result_file in result_files: \n",
    "    \n",
    "    participant_results = pd.read_csv(result_file, sep = ',', decimal='.', header='infer')\n",
    "    print('\\nprocessing subject nb %d:'%participant_results.subject_number.unique()[0])\n",
    "    \n",
    "    \n",
    "    nb_flat = participant_results.sound_file.str.contains('deviant_flat').sum()\n",
    "    print('found %d flat deviants'%nb_flat)\n",
    "        \n",
    "    # change stim type\n",
    "    participant_results.loc[participant_results.sound_file.str.contains('deviant_flat'),\n",
    "                            'stim_type'] = 'deviant'\n",
    "    participant_results.loc[participant_results.sound_file.str.contains('deviant_flat'),\n",
    "                            'stim_marker_code'] = 4\n",
    "    \n",
    "    # save new file\n",
    "    new_result_file = os.path.dirname(result_file) + '/recode/' + os.path.basename(result_file)\n",
    "    print('save to %s'%new_result_file)\n",
    "    \n",
    "    participant_results.to_csv(new_result_file, index=False)\n",
    "    \n",
    "    \n",
    "    "
   ]
  },
  {
   "cell_type": "code",
   "execution_count": null,
   "metadata": {},
   "outputs": [],
   "source": []
  }
 ],
 "metadata": {
  "kernelspec": {
   "display_name": "Python 3",
   "language": "python",
   "name": "python3"
  },
  "language_info": {
   "codemirror_mode": {
    "name": "ipython",
    "version": 3
   },
   "file_extension": ".py",
   "mimetype": "text/x-python",
   "name": "python",
   "nbconvert_exporter": "python",
   "pygments_lexer": "ipython3",
   "version": "3.6.8"
  },
  "toc": {
   "base_numbering": 1,
   "nav_menu": {},
   "number_sections": true,
   "sideBar": true,
   "skip_h1_title": true,
   "title_cell": "Table of Contents",
   "title_sidebar": "Contents",
   "toc_cell": false,
   "toc_position": {},
   "toc_section_display": true,
   "toc_window_display": true
  }
 },
 "nbformat": 4,
 "nbformat_minor": 4
}
